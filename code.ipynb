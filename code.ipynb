{
  "nbformat": 4,
  "nbformat_minor": 0,
  "metadata": {
    "colab": {
      "provenance": [],
      "gpuType": "T4"
    },
    "kernelspec": {
      "name": "python3",
      "display_name": "Python 3"
    },
    "language_info": {
      "name": "python"
    },
    "accelerator": "GPU"
  },
  "cells": [
    {
      "cell_type": "code",
      "source": [
        "import numpy as np\n",
        "import pandas as pd\n",
        "import matplotlib.pyplot as plt\n",
        "import random\n",
        "import tensorflow as tf\n",
        "from sklearn.model_selection import train_test_split\n",
        "from tensorflow.keras.utils import to_categorical\n",
        "from tensorflow.keras.models import Sequential\n",
        "from tensorflow.keras.layers import Dense, Conv2D, Flatten, MaxPooling2D\n",
        "from tensorflow.keras.optimizers import Adam"
      ],
      "metadata": {
        "id": "REtlxDXzmxd4"
      },
      "execution_count": 34,
      "outputs": []
    },
    {
      "cell_type": "code",
      "source": [
        "# 隨機種子確保可重現性\n",
        "seed = 42\n",
        "np.random.seed(seed)\n",
        "random.seed(seed)\n",
        "tf.random.set_seed(seed)"
      ],
      "metadata": {
        "id": "OmHCP-_zqt9f"
      },
      "execution_count": 35,
      "outputs": []
    },
    {
      "cell_type": "code",
      "source": [
        "# 設置環境變量確保使用單一CPU核心\n",
        "import os\n",
        "os.environ['PYTHONHASHSEED'] = str(seed)\n",
        "os.environ['TF_DETERMINISTIC_OPS'] = '1'\n",
        "\n",
        "# 清除Keras的後端會話\n",
        "tf.keras.backend.clear_session()"
      ],
      "metadata": {
        "id": "tm6DwABBsFJ4"
      },
      "execution_count": 36,
      "outputs": []
    },
    {
      "cell_type": "code",
      "source": [
        "# 載入資料\n",
        "train = pd.read_csv('train.csv')\n",
        "test = pd.read_csv('test.csv')\n",
        "\n",
        "# 訓練和驗證資料\n",
        "X = train.iloc[:, 1:].values.reshape(-1, 28, 28, 1)\n",
        "y = to_categorical(train['label'].values)\n",
        "X_train, X_val, y_train, y_val = train_test_split(X, y, test_size=0.1, random_state=seed)\n",
        "\n",
        "# 測試資料\n",
        "X_test = test.values.reshape(-1, 28, 28, 1)"
      ],
      "metadata": {
        "id": "s0DDI7naxREZ"
      },
      "execution_count": 37,
      "outputs": []
    },
    {
      "cell_type": "code",
      "source": [
        "# 建立模型\n",
        "def create_model():\n",
        "    model = Sequential([\n",
        "        Conv2D(32, (3, 3), activation='relu', input_shape=(28, 28, 1), kernel_regularizer=tf.keras.regularizers.l2(0.001)),\n",
        "        MaxPooling2D((2, 2)),\n",
        "        Dropout(0.25),\n",
        "        Conv2D(64, (3, 3), activation='relu', kernel_regularizer=tf.keras.regularizers.l2(0.001)),\n",
        "        MaxPooling2D((2, 2)),\n",
        "        Dropout(0.25),\n",
        "        Flatten(),\n",
        "        Dense(128, activation='relu', kernel_regularizer=tf.keras.regularizers.l2(0.001)),\n",
        "        Dropout(0.5),\n",
        "        Dense(10, activation='softmax')\n",
        "    ])\n",
        "    model.compile(optimizer='adam', loss='categorical_crossentropy', metrics=['accuracy'])\n",
        "    return model"
      ],
      "metadata": {
        "id": "6za1QUZsyCoa"
      },
      "execution_count": 38,
      "outputs": []
    },
    {
      "cell_type": "code",
      "source": [
        "# 訓練模型\n",
        "model = create_model()\n",
        "\n",
        "early_stopping = EarlyStopping(monitor='val_loss', patience=5, restore_best_weights=True)\n",
        "reduce_lr = ReduceLROnPlateau(monitor='val_loss', factor=0.5, patience=3)\n",
        "\n",
        "history = model.fit(X_train, y_train, epochs=200, batch_size=200, validation_data=(X_val, y_val),\n",
        "                    callbacks=[early_stopping, reduce_lr], verbose=2)"
      ],
      "metadata": {
        "colab": {
          "base_uri": "https://localhost:8080/"
        },
        "id": "W1ZZ4BrVyFsX",
        "outputId": "d4053bb5-a231-4349-d8d6-7aa03ee2c33d"
      },
      "execution_count": 40,
      "outputs": [
        {
          "output_type": "stream",
          "name": "stdout",
          "text": [
            "Epoch 1/200\n",
            "189/189 - 5s - loss: 2.4756 - accuracy: 0.4958 - val_loss: 0.5427 - val_accuracy: 0.9295 - lr: 0.0010 - 5s/epoch - 25ms/step\n",
            "Epoch 2/200\n",
            "189/189 - 1s - loss: 0.8031 - accuracy: 0.8266 - val_loss: 0.3875 - val_accuracy: 0.9648 - lr: 0.0010 - 1s/epoch - 6ms/step\n",
            "Epoch 3/200\n",
            "189/189 - 1s - loss: 0.5802 - accuracy: 0.9002 - val_loss: 0.3429 - val_accuracy: 0.9705 - lr: 0.0010 - 1s/epoch - 6ms/step\n",
            "Epoch 4/200\n",
            "189/189 - 1s - loss: 0.4835 - accuracy: 0.9276 - val_loss: 0.3089 - val_accuracy: 0.9779 - lr: 0.0010 - 1s/epoch - 7ms/step\n",
            "Epoch 5/200\n",
            "189/189 - 1s - loss: 0.4226 - accuracy: 0.9421 - val_loss: 0.2808 - val_accuracy: 0.9814 - lr: 0.0010 - 1s/epoch - 8ms/step\n",
            "Epoch 6/200\n",
            "189/189 - 1s - loss: 0.3818 - accuracy: 0.9483 - val_loss: 0.2641 - val_accuracy: 0.9793 - lr: 0.0010 - 1s/epoch - 7ms/step\n",
            "Epoch 7/200\n",
            "189/189 - 1s - loss: 0.3473 - accuracy: 0.9550 - val_loss: 0.2431 - val_accuracy: 0.9848 - lr: 0.0010 - 1s/epoch - 6ms/step\n",
            "Epoch 8/200\n",
            "189/189 - 1s - loss: 0.3229 - accuracy: 0.9600 - val_loss: 0.2325 - val_accuracy: 0.9833 - lr: 0.0010 - 1s/epoch - 6ms/step\n",
            "Epoch 9/200\n",
            "189/189 - 1s - loss: 0.2961 - accuracy: 0.9651 - val_loss: 0.2177 - val_accuracy: 0.9860 - lr: 0.0010 - 1s/epoch - 7ms/step\n",
            "Epoch 10/200\n",
            "189/189 - 2s - loss: 0.2744 - accuracy: 0.9690 - val_loss: 0.1988 - val_accuracy: 0.9890 - lr: 0.0010 - 2s/epoch - 8ms/step\n",
            "Epoch 11/200\n",
            "189/189 - 1s - loss: 0.2531 - accuracy: 0.9699 - val_loss: 0.1847 - val_accuracy: 0.9881 - lr: 0.0010 - 1s/epoch - 7ms/step\n",
            "Epoch 12/200\n",
            "189/189 - 1s - loss: 0.2333 - accuracy: 0.9740 - val_loss: 0.1817 - val_accuracy: 0.9855 - lr: 0.0010 - 1s/epoch - 6ms/step\n",
            "Epoch 13/200\n",
            "189/189 - 1s - loss: 0.2225 - accuracy: 0.9754 - val_loss: 0.1683 - val_accuracy: 0.9895 - lr: 0.0010 - 1s/epoch - 6ms/step\n",
            "Epoch 14/200\n",
            "189/189 - 1s - loss: 0.2113 - accuracy: 0.9752 - val_loss: 0.1693 - val_accuracy: 0.9850 - lr: 0.0010 - 1s/epoch - 6ms/step\n",
            "Epoch 15/200\n",
            "189/189 - 1s - loss: 0.1995 - accuracy: 0.9770 - val_loss: 0.1543 - val_accuracy: 0.9883 - lr: 0.0010 - 1s/epoch - 6ms/step\n",
            "Epoch 16/200\n",
            "189/189 - 1s - loss: 0.1874 - accuracy: 0.9777 - val_loss: 0.1446 - val_accuracy: 0.9905 - lr: 0.0010 - 1s/epoch - 6ms/step\n",
            "Epoch 17/200\n",
            "189/189 - 1s - loss: 0.1793 - accuracy: 0.9777 - val_loss: 0.1360 - val_accuracy: 0.9898 - lr: 0.0010 - 1s/epoch - 6ms/step\n",
            "Epoch 18/200\n",
            "189/189 - 1s - loss: 0.1724 - accuracy: 0.9785 - val_loss: 0.1328 - val_accuracy: 0.9893 - lr: 0.0010 - 1s/epoch - 6ms/step\n",
            "Epoch 19/200\n",
            "189/189 - 1s - loss: 0.1664 - accuracy: 0.9796 - val_loss: 0.1285 - val_accuracy: 0.9914 - lr: 0.0010 - 1s/epoch - 6ms/step\n",
            "Epoch 20/200\n",
            "189/189 - 1s - loss: 0.1601 - accuracy: 0.9799 - val_loss: 0.1250 - val_accuracy: 0.9902 - lr: 0.0010 - 1s/epoch - 7ms/step\n",
            "Epoch 21/200\n",
            "189/189 - 2s - loss: 0.1588 - accuracy: 0.9790 - val_loss: 0.1380 - val_accuracy: 0.9843 - lr: 0.0010 - 2s/epoch - 8ms/step\n",
            "Epoch 22/200\n",
            "189/189 - 1s - loss: 0.1549 - accuracy: 0.9806 - val_loss: 0.1199 - val_accuracy: 0.9902 - lr: 0.0010 - 1s/epoch - 7ms/step\n",
            "Epoch 23/200\n",
            "189/189 - 1s - loss: 0.1463 - accuracy: 0.9812 - val_loss: 0.1172 - val_accuracy: 0.9910 - lr: 0.0010 - 1s/epoch - 6ms/step\n",
            "Epoch 24/200\n",
            "189/189 - 1s - loss: 0.1428 - accuracy: 0.9815 - val_loss: 0.1130 - val_accuracy: 0.9898 - lr: 0.0010 - 1s/epoch - 6ms/step\n",
            "Epoch 25/200\n",
            "189/189 - 1s - loss: 0.1393 - accuracy: 0.9815 - val_loss: 0.1123 - val_accuracy: 0.9907 - lr: 0.0010 - 1s/epoch - 6ms/step\n",
            "Epoch 26/200\n",
            "189/189 - 1s - loss: 0.1394 - accuracy: 0.9808 - val_loss: 0.1140 - val_accuracy: 0.9893 - lr: 0.0010 - 1s/epoch - 6ms/step\n",
            "Epoch 27/200\n",
            "189/189 - 1s - loss: 0.1352 - accuracy: 0.9826 - val_loss: 0.1065 - val_accuracy: 0.9900 - lr: 0.0010 - 1s/epoch - 6ms/step\n",
            "Epoch 28/200\n",
            "189/189 - 1s - loss: 0.1350 - accuracy: 0.9820 - val_loss: 0.1070 - val_accuracy: 0.9900 - lr: 0.0010 - 1s/epoch - 6ms/step\n",
            "Epoch 29/200\n",
            "189/189 - 1s - loss: 0.1378 - accuracy: 0.9811 - val_loss: 0.1061 - val_accuracy: 0.9910 - lr: 0.0010 - 1s/epoch - 6ms/step\n",
            "Epoch 30/200\n",
            "189/189 - 1s - loss: 0.1322 - accuracy: 0.9828 - val_loss: 0.1053 - val_accuracy: 0.9907 - lr: 0.0010 - 1s/epoch - 6ms/step\n",
            "Epoch 31/200\n",
            "189/189 - 1s - loss: 0.1341 - accuracy: 0.9813 - val_loss: 0.1102 - val_accuracy: 0.9883 - lr: 0.0010 - 1s/epoch - 6ms/step\n",
            "Epoch 32/200\n",
            "189/189 - 1s - loss: 0.1333 - accuracy: 0.9827 - val_loss: 0.1030 - val_accuracy: 0.9926 - lr: 0.0010 - 1s/epoch - 7ms/step\n",
            "Epoch 33/200\n",
            "189/189 - 1s - loss: 0.1331 - accuracy: 0.9820 - val_loss: 0.1047 - val_accuracy: 0.9929 - lr: 0.0010 - 1s/epoch - 8ms/step\n",
            "Epoch 34/200\n",
            "189/189 - 1s - loss: 0.1350 - accuracy: 0.9822 - val_loss: 0.1040 - val_accuracy: 0.9907 - lr: 0.0010 - 1s/epoch - 7ms/step\n",
            "Epoch 35/200\n",
            "189/189 - 1s - loss: 0.1322 - accuracy: 0.9831 - val_loss: 0.1081 - val_accuracy: 0.9895 - lr: 0.0010 - 1s/epoch - 6ms/step\n",
            "Epoch 36/200\n",
            "189/189 - 1s - loss: 0.1161 - accuracy: 0.9867 - val_loss: 0.0962 - val_accuracy: 0.9924 - lr: 5.0000e-04 - 1s/epoch - 6ms/step\n",
            "Epoch 37/200\n",
            "189/189 - 1s - loss: 0.1047 - accuracy: 0.9890 - val_loss: 0.0905 - val_accuracy: 0.9926 - lr: 5.0000e-04 - 1s/epoch - 6ms/step\n",
            "Epoch 38/200\n",
            "189/189 - 1s - loss: 0.0990 - accuracy: 0.9889 - val_loss: 0.0844 - val_accuracy: 0.9931 - lr: 5.0000e-04 - 1s/epoch - 6ms/step\n",
            "Epoch 39/200\n",
            "189/189 - 1s - loss: 0.0921 - accuracy: 0.9900 - val_loss: 0.0819 - val_accuracy: 0.9926 - lr: 5.0000e-04 - 1s/epoch - 6ms/step\n",
            "Epoch 40/200\n",
            "189/189 - 1s - loss: 0.0930 - accuracy: 0.9882 - val_loss: 0.0799 - val_accuracy: 0.9933 - lr: 5.0000e-04 - 1s/epoch - 6ms/step\n",
            "Epoch 41/200\n",
            "189/189 - 1s - loss: 0.0887 - accuracy: 0.9898 - val_loss: 0.0779 - val_accuracy: 0.9924 - lr: 5.0000e-04 - 1s/epoch - 6ms/step\n",
            "Epoch 42/200\n",
            "189/189 - 1s - loss: 0.0904 - accuracy: 0.9887 - val_loss: 0.0764 - val_accuracy: 0.9936 - lr: 5.0000e-04 - 1s/epoch - 6ms/step\n",
            "Epoch 43/200\n",
            "189/189 - 1s - loss: 0.0882 - accuracy: 0.9889 - val_loss: 0.0772 - val_accuracy: 0.9912 - lr: 5.0000e-04 - 1s/epoch - 6ms/step\n",
            "Epoch 44/200\n",
            "189/189 - 1s - loss: 0.0889 - accuracy: 0.9889 - val_loss: 0.0787 - val_accuracy: 0.9917 - lr: 5.0000e-04 - 1s/epoch - 7ms/step\n",
            "Epoch 45/200\n",
            "189/189 - 1s - loss: 0.0864 - accuracy: 0.9888 - val_loss: 0.0772 - val_accuracy: 0.9917 - lr: 5.0000e-04 - 1s/epoch - 8ms/step\n",
            "Epoch 46/200\n",
            "189/189 - 1s - loss: 0.0794 - accuracy: 0.9908 - val_loss: 0.0729 - val_accuracy: 0.9917 - lr: 2.5000e-04 - 1s/epoch - 6ms/step\n",
            "Epoch 47/200\n",
            "189/189 - 1s - loss: 0.0742 - accuracy: 0.9920 - val_loss: 0.0682 - val_accuracy: 0.9933 - lr: 2.5000e-04 - 1s/epoch - 6ms/step\n",
            "Epoch 48/200\n",
            "189/189 - 1s - loss: 0.0702 - accuracy: 0.9920 - val_loss: 0.0683 - val_accuracy: 0.9936 - lr: 2.5000e-04 - 1s/epoch - 6ms/step\n",
            "Epoch 49/200\n",
            "189/189 - 1s - loss: 0.0701 - accuracy: 0.9921 - val_loss: 0.0659 - val_accuracy: 0.9931 - lr: 2.5000e-04 - 1s/epoch - 6ms/step\n",
            "Epoch 50/200\n",
            "189/189 - 1s - loss: 0.0661 - accuracy: 0.9924 - val_loss: 0.0674 - val_accuracy: 0.9921 - lr: 2.5000e-04 - 1s/epoch - 6ms/step\n",
            "Epoch 51/200\n",
            "189/189 - 1s - loss: 0.0662 - accuracy: 0.9921 - val_loss: 0.0620 - val_accuracy: 0.9931 - lr: 2.5000e-04 - 1s/epoch - 6ms/step\n",
            "Epoch 52/200\n",
            "189/189 - 1s - loss: 0.0664 - accuracy: 0.9916 - val_loss: 0.0629 - val_accuracy: 0.9926 - lr: 2.5000e-04 - 1s/epoch - 6ms/step\n",
            "Epoch 53/200\n",
            "189/189 - 1s - loss: 0.0642 - accuracy: 0.9923 - val_loss: 0.0605 - val_accuracy: 0.9933 - lr: 2.5000e-04 - 1s/epoch - 6ms/step\n",
            "Epoch 54/200\n",
            "189/189 - 1s - loss: 0.0638 - accuracy: 0.9924 - val_loss: 0.0601 - val_accuracy: 0.9943 - lr: 2.5000e-04 - 1s/epoch - 6ms/step\n",
            "Epoch 55/200\n",
            "189/189 - 1s - loss: 0.0613 - accuracy: 0.9928 - val_loss: 0.0596 - val_accuracy: 0.9926 - lr: 2.5000e-04 - 1s/epoch - 8ms/step\n",
            "Epoch 56/200\n",
            "189/189 - 1s - loss: 0.0622 - accuracy: 0.9918 - val_loss: 0.0573 - val_accuracy: 0.9948 - lr: 2.5000e-04 - 1s/epoch - 7ms/step\n",
            "Epoch 57/200\n",
            "189/189 - 1s - loss: 0.0610 - accuracy: 0.9921 - val_loss: 0.0574 - val_accuracy: 0.9926 - lr: 2.5000e-04 - 1s/epoch - 7ms/step\n",
            "Epoch 58/200\n",
            "189/189 - 1s - loss: 0.0601 - accuracy: 0.9922 - val_loss: 0.0562 - val_accuracy: 0.9943 - lr: 2.5000e-04 - 1s/epoch - 6ms/step\n",
            "Epoch 59/200\n",
            "189/189 - 1s - loss: 0.0597 - accuracy: 0.9925 - val_loss: 0.0563 - val_accuracy: 0.9936 - lr: 2.5000e-04 - 1s/epoch - 6ms/step\n",
            "Epoch 60/200\n",
            "189/189 - 1s - loss: 0.0587 - accuracy: 0.9925 - val_loss: 0.0575 - val_accuracy: 0.9933 - lr: 2.5000e-04 - 1s/epoch - 6ms/step\n",
            "Epoch 61/200\n",
            "189/189 - 1s - loss: 0.0581 - accuracy: 0.9926 - val_loss: 0.0583 - val_accuracy: 0.9929 - lr: 2.5000e-04 - 1s/epoch - 6ms/step\n",
            "Epoch 62/200\n",
            "189/189 - 1s - loss: 0.0550 - accuracy: 0.9935 - val_loss: 0.0538 - val_accuracy: 0.9936 - lr: 1.2500e-04 - 1s/epoch - 6ms/step\n",
            "Epoch 63/200\n",
            "189/189 - 1s - loss: 0.0529 - accuracy: 0.9940 - val_loss: 0.0516 - val_accuracy: 0.9943 - lr: 1.2500e-04 - 1s/epoch - 6ms/step\n",
            "Epoch 64/200\n",
            "189/189 - 1s - loss: 0.0521 - accuracy: 0.9942 - val_loss: 0.0531 - val_accuracy: 0.9940 - lr: 1.2500e-04 - 1s/epoch - 6ms/step\n",
            "Epoch 65/200\n",
            "189/189 - 1s - loss: 0.0488 - accuracy: 0.9948 - val_loss: 0.0522 - val_accuracy: 0.9950 - lr: 1.2500e-04 - 1s/epoch - 6ms/step\n",
            "Epoch 66/200\n",
            "189/189 - 1s - loss: 0.0501 - accuracy: 0.9941 - val_loss: 0.0533 - val_accuracy: 0.9945 - lr: 1.2500e-04 - 1s/epoch - 6ms/step\n",
            "Epoch 67/200\n",
            "189/189 - 1s - loss: 0.0476 - accuracy: 0.9948 - val_loss: 0.0503 - val_accuracy: 0.9948 - lr: 6.2500e-05 - 1s/epoch - 7ms/step\n",
            "Epoch 68/200\n",
            "189/189 - 2s - loss: 0.0471 - accuracy: 0.9948 - val_loss: 0.0503 - val_accuracy: 0.9945 - lr: 6.2500e-05 - 2s/epoch - 8ms/step\n",
            "Epoch 69/200\n",
            "189/189 - 1s - loss: 0.0467 - accuracy: 0.9953 - val_loss: 0.0500 - val_accuracy: 0.9948 - lr: 6.2500e-05 - 1s/epoch - 6ms/step\n",
            "Epoch 70/200\n",
            "189/189 - 1s - loss: 0.0454 - accuracy: 0.9951 - val_loss: 0.0500 - val_accuracy: 0.9943 - lr: 6.2500e-05 - 1s/epoch - 6ms/step\n",
            "Epoch 71/200\n",
            "189/189 - 1s - loss: 0.0446 - accuracy: 0.9954 - val_loss: 0.0488 - val_accuracy: 0.9945 - lr: 6.2500e-05 - 1s/epoch - 6ms/step\n",
            "Epoch 72/200\n",
            "189/189 - 1s - loss: 0.0438 - accuracy: 0.9953 - val_loss: 0.0494 - val_accuracy: 0.9945 - lr: 6.2500e-05 - 1s/epoch - 6ms/step\n",
            "Epoch 73/200\n",
            "189/189 - 1s - loss: 0.0441 - accuracy: 0.9952 - val_loss: 0.0486 - val_accuracy: 0.9945 - lr: 6.2500e-05 - 1s/epoch - 6ms/step\n",
            "Epoch 74/200\n",
            "189/189 - 1s - loss: 0.0431 - accuracy: 0.9956 - val_loss: 0.0484 - val_accuracy: 0.9948 - lr: 6.2500e-05 - 1s/epoch - 6ms/step\n",
            "Epoch 75/200\n",
            "189/189 - 1s - loss: 0.0430 - accuracy: 0.9955 - val_loss: 0.0475 - val_accuracy: 0.9952 - lr: 6.2500e-05 - 1s/epoch - 6ms/step\n",
            "Epoch 76/200\n",
            "189/189 - 1s - loss: 0.0423 - accuracy: 0.9957 - val_loss: 0.0464 - val_accuracy: 0.9952 - lr: 6.2500e-05 - 1s/epoch - 6ms/step\n",
            "Epoch 77/200\n",
            "189/189 - 1s - loss: 0.0415 - accuracy: 0.9953 - val_loss: 0.0465 - val_accuracy: 0.9950 - lr: 6.2500e-05 - 1s/epoch - 6ms/step\n",
            "Epoch 78/200\n",
            "189/189 - 1s - loss: 0.0428 - accuracy: 0.9952 - val_loss: 0.0460 - val_accuracy: 0.9948 - lr: 6.2500e-05 - 1s/epoch - 7ms/step\n",
            "Epoch 79/200\n",
            "189/189 - 2s - loss: 0.0406 - accuracy: 0.9958 - val_loss: 0.0467 - val_accuracy: 0.9948 - lr: 6.2500e-05 - 2s/epoch - 8ms/step\n",
            "Epoch 80/200\n",
            "189/189 - 1s - loss: 0.0408 - accuracy: 0.9957 - val_loss: 0.0476 - val_accuracy: 0.9940 - lr: 6.2500e-05 - 1s/epoch - 7ms/step\n",
            "Epoch 81/200\n",
            "189/189 - 1s - loss: 0.0394 - accuracy: 0.9960 - val_loss: 0.0454 - val_accuracy: 0.9936 - lr: 6.2500e-05 - 1s/epoch - 6ms/step\n",
            "Epoch 82/200\n",
            "189/189 - 1s - loss: 0.0412 - accuracy: 0.9958 - val_loss: 0.0448 - val_accuracy: 0.9943 - lr: 6.2500e-05 - 1s/epoch - 6ms/step\n",
            "Epoch 83/200\n",
            "189/189 - 1s - loss: 0.0405 - accuracy: 0.9955 - val_loss: 0.0458 - val_accuracy: 0.9943 - lr: 6.2500e-05 - 1s/epoch - 6ms/step\n",
            "Epoch 84/200\n",
            "189/189 - 1s - loss: 0.0410 - accuracy: 0.9954 - val_loss: 0.0453 - val_accuracy: 0.9943 - lr: 6.2500e-05 - 1s/epoch - 6ms/step\n",
            "Epoch 85/200\n",
            "189/189 - 1s - loss: 0.0402 - accuracy: 0.9952 - val_loss: 0.0458 - val_accuracy: 0.9945 - lr: 6.2500e-05 - 1s/epoch - 6ms/step\n",
            "Epoch 86/200\n",
            "189/189 - 1s - loss: 0.0390 - accuracy: 0.9954 - val_loss: 0.0452 - val_accuracy: 0.9945 - lr: 3.1250e-05 - 1s/epoch - 6ms/step\n",
            "Epoch 87/200\n",
            "189/189 - 1s - loss: 0.0382 - accuracy: 0.9956 - val_loss: 0.0451 - val_accuracy: 0.9945 - lr: 3.1250e-05 - 1s/epoch - 6ms/step\n"
          ]
        }
      ]
    },
    {
      "cell_type": "code",
      "source": [
        "# 進行預測\n",
        "predictions = model.predict(X_test)\n",
        "predicted_labels = np.argmax(predictions, axis=1)\n",
        "\n",
        "# 輸出檔案\n",
        "submission = pd.DataFrame({'ImageId': np.arange(1, len(predicted_labels) + 1), 'Label': predicted_labels})\n",
        "submission.to_csv('submission.csv', index=False)\n",
        "\n",
        "print(\"Submission file has been created!\")"
      ],
      "metadata": {
        "colab": {
          "base_uri": "https://localhost:8080/"
        },
        "id": "jmh2Fv5VnRkM",
        "outputId": "4b158449-6730-46fd-d424-1fe9b4e528d4"
      },
      "execution_count": 41,
      "outputs": [
        {
          "output_type": "stream",
          "name": "stdout",
          "text": [
            "875/875 [==============================] - 2s 2ms/step\n",
            "Submission file has been created!\n"
          ]
        }
      ]
    }
  ]
}